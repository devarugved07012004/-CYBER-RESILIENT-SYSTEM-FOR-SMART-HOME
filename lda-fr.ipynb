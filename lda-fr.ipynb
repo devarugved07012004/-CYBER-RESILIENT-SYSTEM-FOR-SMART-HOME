{
 "cells": [
  {
   "cell_type": "code",
   "execution_count": 1,
   "id": "1f0da24d",
   "metadata": {
    "_cell_guid": "b1076dfc-b9ad-4769-8c92-a6c4dae69d19",
    "_uuid": "8f2839f25d086af736a60e9eeb907d3b93b6e0e5",
    "execution": {
     "iopub.execute_input": "2024-07-08T16:28:24.507464Z",
     "iopub.status.busy": "2024-07-08T16:28:24.507133Z",
     "iopub.status.idle": "2024-07-08T16:30:06.489507Z",
     "shell.execute_reply": "2024-07-08T16:30:06.488396Z"
    },
    "papermill": {
     "duration": 101.988898,
     "end_time": "2024-07-08T16:30:06.492955",
     "exception": false,
     "start_time": "2024-07-08T16:28:24.504057",
     "status": "completed"
    },
    "tags": []
   },
   "outputs": [
    {
     "name": "stdout",
     "output_type": "stream",
     "text": [
      "Index(['HH_L0.1_pcc', 'HH_L0.1_std', 'H_L0.1_mean', 'HpHp_L0.1_magnitude',\n",
      "       'HpHp_L0.1_std', 'HH_L0.1_magnitude', 'MI_dir_L0.1_variance',\n",
      "       'HH_L0.1_covariance', 'HH_jit_L0.1_variance', 'HH_jit_L0.1_mean',\n",
      "       'HH_L0.1_radius', 'HpHp_L0.1_radius', 'HpHp_L0.1_covariance',\n",
      "       'MI_dir_L0.1_weight', 'H_L0.1_weight', 'H_L0.1_variance',\n",
      "       'HpHp_L0.1_weight', 'HH_L0.1_weight', 'HH_jit_L0.1_weight',\n",
      "       'HH_L0.1_mean', 'MI_dir_L0.1_mean', 'HpHp_L0.1_mean', 'HpHp_L0.1_pcc'],\n",
      "      dtype='object')\n",
      "[LightGBM] [Info] Number of positive: 444352, number of negative: 5205732\n",
      "[LightGBM] [Info] Auto-choosing row-wise multi-threading, the overhead of testing was 0.831866 seconds.\n",
      "You can set `force_row_wise=true` to remove the overhead.\n",
      "And if memory is not enough, you can set `force_col_wise=true`.\n",
      "[LightGBM] [Info] Total Bins 5862\n",
      "[LightGBM] [Info] Number of data points in the train set: 5650084, number of used features: 23\n",
      "[LightGBM] [Info] [binary:BoostFromScore]: pavg=0.078645 -> initscore=-2.460899\n",
      "[LightGBM] [Info] Start training from score -2.460899\n",
      "\n",
      "LightGBM accuracy with LDA selected features: 0.9999985840928495\n",
      "Elapsed time: 53.40228772163391 seconds\n"
     ]
    }
   ],
   "source": [
    "import time\n",
    "import pandas as pd\n",
    "from sklearn.model_selection import train_test_split\n",
    "from sklearn.discriminant_analysis import LinearDiscriminantAnalysis as LDA\n",
    "from lightgbm import LGBMClassifier\n",
    "\n",
    "data = pd.read_csv(\"/kaggle/input/iot-dataset-for-intrusion-detection-systems-ids/BoTNeTIoT-L01-v2.csv\")\n",
    "\n",
    "data = data.drop(['Device_Name', 'Attack', 'Attack_subType'], axis=1)\n",
    "\n",
    "X = data.drop('label', axis=1)\n",
    "y = data['label']\n",
    "\n",
    "X_train, X_test, y_train, y_test = train_test_split(X, y, test_size=0.2, random_state=42)\n",
    "\n",
    "lda = LDA()\n",
    "X_train_lda = lda.fit_transform(X_train, y_train)\n",
    "X_test_lda = lda.transform(X_test)\n",
    "\n",
    "selected_feature_indices = lda.coef_.argsort(axis=1)[:, ::-1][:, :lda.n_components].flatten()\n",
    "selected_feature_names = X.columns[selected_feature_indices]\n",
    "print(selected_feature_names)\n",
    "\n",
    "X_train_selected = X_train[selected_feature_names]\n",
    "X_test_selected = X_test[selected_feature_names]\n",
    "\n",
    "lgbm = LGBMClassifier()\n",
    "start_time = time.time()\n",
    "lgbm.fit(X_train_selected, y_train)\n",
    "end_time = time.time()\n",
    "\n",
    "accuracy = lgbm.score(X_test_selected, y_test)\n",
    "print('\\nLightGBM accuracy with LDA selected features:', accuracy)\n",
    "elapsed_time = end_time - start_time\n",
    "\n",
    "print(f\"Elapsed time: {elapsed_time} seconds\")"
   ]
  }
 ],
 "metadata": {
  "kaggle": {
   "accelerator": "none",
   "dataSources": [
    {
     "datasetId": 1303049,
     "sourceId": 2260912,
     "sourceType": "datasetVersion"
    }
   ],
   "dockerImageVersionId": 30732,
   "isGpuEnabled": false,
   "isInternetEnabled": false,
   "language": "python",
   "sourceType": "notebook"
  },
  "kernelspec": {
   "display_name": "Python 3",
   "language": "python",
   "name": "python3"
  },
  "language_info": {
   "codemirror_mode": {
    "name": "ipython",
    "version": 3
   },
   "file_extension": ".py",
   "mimetype": "text/x-python",
   "name": "python",
   "nbconvert_exporter": "python",
   "pygments_lexer": "ipython3",
   "version": "3.10.13"
  },
  "papermill": {
   "default_parameters": {},
   "duration": 105.004675,
   "end_time": "2024-07-08T16:30:07.215447",
   "environment_variables": {},
   "exception": null,
   "input_path": "__notebook__.ipynb",
   "output_path": "__notebook__.ipynb",
   "parameters": {},
   "start_time": "2024-07-08T16:28:22.210772",
   "version": "2.5.0"
  }
 },
 "nbformat": 4,
 "nbformat_minor": 5
}
